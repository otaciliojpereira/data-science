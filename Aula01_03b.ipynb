{
  "nbformat": 4,
  "nbformat_minor": 0,
  "metadata": {
    "colab": {
      "name": "Untitled0.ipynb",
      "provenance": [],
      "authorship_tag": "ABX9TyMCHcBUvBIw8R+C0Bxu7U/x",
      "include_colab_link": true
    },
    "kernelspec": {
      "name": "python3",
      "display_name": "Python 3"
    }
  },
  "cells": [
    {
      "cell_type": "markdown",
      "metadata": {
        "id": "view-in-github",
        "colab_type": "text"
      },
      "source": [
        "<a href=\"https://colab.research.google.com/github/otaciliojpereira/data-science/blob/master/Aula01_03b.ipynb\" target=\"_parent\"><img src=\"https://colab.research.google.com/assets/colab-badge.svg\" alt=\"Open In Colab\"/></a>"
      ]
    },
    {
      "cell_type": "markdown",
      "metadata": {
        "id": "xZ-gT3GwUm_M",
        "colab_type": "text"
      },
      "source": [
        "- Estudo QuarentenaDados (Sugestão do Kevin e bem interessante)\n",
        "\n",
        "Data: De 20 a 27/04/2020\n",
        "\n",
        "Pelo que vi até agora, a organização está da seguinte forma:\n",
        "\n",
        "   Aula 1 - Recuperar os dados e realizar algumas análises estatísticas\n",
        "\n",
        "   Aula 2 - Observar os dados via gráfico e alguns tratamentos sobre os dados\n",
        "\n",
        "   Aula 3 - Mais sobre gráficos e com exploração de eventuais correlações\n",
        "\n",
        "   Aula 4 - (A avaliar)\n",
        "\n",
        "   Aula 5 - (A avaliar)"
      ]
    },
    {
      "cell_type": "markdown",
      "metadata": {
        "id": "7tdgBBx5Vx3d",
        "colab_type": "text"
      },
      "source": [
        "# **Estudo 01 - Fontes e operações sobre as bases de dados**\n",
        "\n",
        "(Ideia) Quais os grandes repositórios? Existem bases de dados interessantes sobre educação e séries temporais em máquinas (Tenessee Eastman Process)\n",
        "\n",
        "(Ideia) Criar um GitHb para compartilhar as bases entre suas experiências parece interessante.\n",
        "\n",
        "Pontos chaves:\n",
        "\n",
        "- Carga / Compreender formato / Entender sua estrutura / Quais frameworks e suas estruturas típicas / Operações (subconjunto) típicas\n"
      ]
    },
    {
      "cell_type": "code",
      "metadata": {
        "id": "1udcoo_aXET3",
        "colab_type": "code",
        "outputId": "ccaace4c-1cba-4f32-86b1-b8266d1f0538",
        "colab": {
          "base_uri": "https://localhost:8080/",
          "height": 34
        }
      },
      "source": [
        "# Carregar os dados\n",
        "a = 10\n",
        "print(a)"
      ],
      "execution_count": 0,
      "outputs": [
        {
          "output_type": "stream",
          "text": [
            "10\n"
          ],
          "name": "stdout"
        }
      ]
    },
    {
      "cell_type": "markdown",
      "metadata": {
        "id": "lzCFMOzDmZ4e",
        "colab_type": "text"
      },
      "source": [
        "# Carga dos dados através do Pandas\n",
        "\n",
        "Importação / read_csv / operações com o Dataframe (colunas e linhas) / contabilização / outras úteis\n",
        "\n",
        "Principais bases: movies(filmes) e ratings(avaliacoes)\n",
        "\n",
        "Fonte interessante: \n",
        "Pandas Tutorial: DataFrames in Python / DataCamp"
      ]
    },
    {
      "cell_type": "code",
      "metadata": {
        "id": "yESShZXIf0dc",
        "colab_type": "code",
        "colab": {}
      },
      "source": [
        "import pandas as pd"
      ],
      "execution_count": 0,
      "outputs": []
    },
    {
      "cell_type": "code",
      "metadata": {
        "id": "htkmqYqAgiX1",
        "colab_type": "code",
        "colab": {}
      },
      "source": [
        "filmes = pd.read_csv(\"https://raw.githubusercontent.com/otaciliojpereira/data-science/master/movies.csv\")\n",
        "# movies.head\n",
        "# ?movies\n",
        "\n",
        "avaliacoes = pd.read_csv(\"https://raw.githubusercontent.com/otaciliojpereira/data-science/master/ratings.csv\")"
      ],
      "execution_count": 0,
      "outputs": []
    },
    {
      "cell_type": "code",
      "metadata": {
        "id": "e6nCH9gpkrS-",
        "colab_type": "code",
        "colab": {
          "base_uri": "https://localhost:8080/",
          "height": 34
        },
        "outputId": "7f53e670-1a0b-48f5-9c38-6b234c209220"
      },
      "source": [
        "# filmes.columns = ['Id', 'Título', 'Gênero']\n",
        "# filmes.head\n",
        "# filmes.head()\n",
        "# avaliacoes.head()\n",
        "\n",
        "# Outras funcoes úteis para primeira exploração da base\n",
        "# filmes.shape   # Por que não é função?\n",
        "# len(filmes)\n"
      ],
      "execution_count": 9,
      "outputs": [
        {
          "output_type": "execute_result",
          "data": {
            "text/plain": [
              "9742"
            ]
          },
          "metadata": {
            "tags": []
          },
          "execution_count": 9
        }
      ]
    },
    {
      "cell_type": "markdown",
      "metadata": {
        "id": "LnCt3lE3ouN7",
        "colab_type": "text"
      },
      "source": [
        "# Operações de consulta na tabela de dados / semelhante ao SQL\n",
        "\n",
        "- Query / "
      ]
    },
    {
      "cell_type": "code",
      "metadata": {
        "id": "Vd9tdzRAo00u",
        "colab_type": "code",
        "outputId": "6bc16dfd-940f-4e9c-88c0-4b44deeba7c4",
        "colab": {
          "base_uri": "https://localhost:8080/",
          "height": 287
        }
      },
      "source": [
        "# avaliacoes.head()\n",
        "# avaliacoes.describe()\n",
        "# avaliacoes.query(\"userId==1\")\n",
        "# avaliacoes[\"rating\"]   # recuperar uma coluna. Isso é uma série.\n",
        "# avaliacoes.query(\"movieId==1\").describe()  # Percentis e outras informações\n",
        "# avaliacoes.groupby(['movieId']).mean()\n"
      ],
      "execution_count": 19,
      "outputs": [
        {
          "output_type": "execute_result",
          "data": {
            "text/html": [
              "<div>\n",
              "<style scoped>\n",
              "    .dataframe tbody tr th:only-of-type {\n",
              "        vertical-align: middle;\n",
              "    }\n",
              "\n",
              "    .dataframe tbody tr th {\n",
              "        vertical-align: top;\n",
              "    }\n",
              "\n",
              "    .dataframe thead th {\n",
              "        text-align: right;\n",
              "    }\n",
              "</style>\n",
              "<table border=\"1\" class=\"dataframe\">\n",
              "  <thead>\n",
              "    <tr style=\"text-align: right;\">\n",
              "      <th></th>\n",
              "      <th>userId</th>\n",
              "      <th>movieId</th>\n",
              "      <th>rating</th>\n",
              "      <th>timestamp</th>\n",
              "    </tr>\n",
              "  </thead>\n",
              "  <tbody>\n",
              "    <tr>\n",
              "      <th>count</th>\n",
              "      <td>215.000000</td>\n",
              "      <td>215.0</td>\n",
              "      <td>215.000000</td>\n",
              "      <td>2.150000e+02</td>\n",
              "    </tr>\n",
              "    <tr>\n",
              "      <th>mean</th>\n",
              "      <td>306.530233</td>\n",
              "      <td>1.0</td>\n",
              "      <td>3.920930</td>\n",
              "      <td>1.129835e+09</td>\n",
              "    </tr>\n",
              "    <tr>\n",
              "      <th>std</th>\n",
              "      <td>180.419754</td>\n",
              "      <td>0.0</td>\n",
              "      <td>0.834859</td>\n",
              "      <td>2.393163e+08</td>\n",
              "    </tr>\n",
              "    <tr>\n",
              "      <th>min</th>\n",
              "      <td>1.000000</td>\n",
              "      <td>1.0</td>\n",
              "      <td>0.500000</td>\n",
              "      <td>8.293223e+08</td>\n",
              "    </tr>\n",
              "    <tr>\n",
              "      <th>25%</th>\n",
              "      <td>155.500000</td>\n",
              "      <td>1.0</td>\n",
              "      <td>3.500000</td>\n",
              "      <td>8.779224e+08</td>\n",
              "    </tr>\n",
              "    <tr>\n",
              "      <th>50%</th>\n",
              "      <td>290.000000</td>\n",
              "      <td>1.0</td>\n",
              "      <td>4.000000</td>\n",
              "      <td>1.106855e+09</td>\n",
              "    </tr>\n",
              "    <tr>\n",
              "      <th>75%</th>\n",
              "      <td>468.500000</td>\n",
              "      <td>1.0</td>\n",
              "      <td>4.500000</td>\n",
              "      <td>1.348523e+09</td>\n",
              "    </tr>\n",
              "    <tr>\n",
              "      <th>max</th>\n",
              "      <td>610.000000</td>\n",
              "      <td>1.0</td>\n",
              "      <td>5.000000</td>\n",
              "      <td>1.535710e+09</td>\n",
              "    </tr>\n",
              "  </tbody>\n",
              "</table>\n",
              "</div>"
            ],
            "text/plain": [
              "           userId  movieId      rating     timestamp\n",
              "count  215.000000    215.0  215.000000  2.150000e+02\n",
              "mean   306.530233      1.0    3.920930  1.129835e+09\n",
              "std    180.419754      0.0    0.834859  2.393163e+08\n",
              "min      1.000000      1.0    0.500000  8.293223e+08\n",
              "25%    155.500000      1.0    3.500000  8.779224e+08\n",
              "50%    290.000000      1.0    4.000000  1.106855e+09\n",
              "75%    468.500000      1.0    4.500000  1.348523e+09\n",
              "max    610.000000      1.0    5.000000  1.535710e+09"
            ]
          },
          "metadata": {
            "tags": []
          },
          "execution_count": 19
        }
      ]
    },
    {
      "cell_type": "code",
      "metadata": {
        "id": "QDd8KS7NwFrP",
        "colab_type": "code",
        "colab": {
          "base_uri": "https://localhost:8080/",
          "height": 197
        },
        "outputId": "c72b86db-4522-4175-e3ef-90dae107ccc3"
      },
      "source": [
        "# formas de junção\n",
        "# filmes[\"media\"] = notas_media[\"notamedia\"]   # isso só vale de mesmo número de itens e na mesma ordem\n",
        "\n",
        "# filmes.head()\n",
        "# avaliacoes.head()\n",
        "# avaliacoes_filme = avaliacoes.groupby(\"movieId\").mean()[\"rating\"]\n",
        "# avaliacoes_filme.head()\n",
        "# avaliacoes_filme.shape\n",
        "\n",
        "\n",
        "# media_notas = filmes.join(avaliacoes_filme, on=\"movieId\")\n",
        "# media_notas.head()\n"
      ],
      "execution_count": 35,
      "outputs": [
        {
          "output_type": "execute_result",
          "data": {
            "text/html": [
              "<div>\n",
              "<style scoped>\n",
              "    .dataframe tbody tr th:only-of-type {\n",
              "        vertical-align: middle;\n",
              "    }\n",
              "\n",
              "    .dataframe tbody tr th {\n",
              "        vertical-align: top;\n",
              "    }\n",
              "\n",
              "    .dataframe thead th {\n",
              "        text-align: right;\n",
              "    }\n",
              "</style>\n",
              "<table border=\"1\" class=\"dataframe\">\n",
              "  <thead>\n",
              "    <tr style=\"text-align: right;\">\n",
              "      <th></th>\n",
              "      <th>movieId</th>\n",
              "      <th>title</th>\n",
              "      <th>genres</th>\n",
              "      <th>rating</th>\n",
              "    </tr>\n",
              "  </thead>\n",
              "  <tbody>\n",
              "    <tr>\n",
              "      <th>0</th>\n",
              "      <td>1</td>\n",
              "      <td>Toy Story (1995)</td>\n",
              "      <td>Adventure|Animation|Children|Comedy|Fantasy</td>\n",
              "      <td>3.920930</td>\n",
              "    </tr>\n",
              "    <tr>\n",
              "      <th>1</th>\n",
              "      <td>2</td>\n",
              "      <td>Jumanji (1995)</td>\n",
              "      <td>Adventure|Children|Fantasy</td>\n",
              "      <td>3.431818</td>\n",
              "    </tr>\n",
              "    <tr>\n",
              "      <th>2</th>\n",
              "      <td>3</td>\n",
              "      <td>Grumpier Old Men (1995)</td>\n",
              "      <td>Comedy|Romance</td>\n",
              "      <td>3.259615</td>\n",
              "    </tr>\n",
              "    <tr>\n",
              "      <th>3</th>\n",
              "      <td>4</td>\n",
              "      <td>Waiting to Exhale (1995)</td>\n",
              "      <td>Comedy|Drama|Romance</td>\n",
              "      <td>2.357143</td>\n",
              "    </tr>\n",
              "    <tr>\n",
              "      <th>4</th>\n",
              "      <td>5</td>\n",
              "      <td>Father of the Bride Part II (1995)</td>\n",
              "      <td>Comedy</td>\n",
              "      <td>3.071429</td>\n",
              "    </tr>\n",
              "  </tbody>\n",
              "</table>\n",
              "</div>"
            ],
            "text/plain": [
              "   movieId  ...    rating\n",
              "0        1  ...  3.920930\n",
              "1        2  ...  3.431818\n",
              "2        3  ...  3.259615\n",
              "3        4  ...  2.357143\n",
              "4        5  ...  3.071429\n",
              "\n",
              "[5 rows x 4 columns]"
            ]
          },
          "metadata": {
            "tags": []
          },
          "execution_count": 35
        }
      ]
    },
    {
      "cell_type": "code",
      "metadata": {
        "id": "MNYtOJcQZWfK",
        "colab_type": "code",
        "colab": {
          "base_uri": "https://localhost:8080/",
          "height": 406
        },
        "outputId": "66cf5955-79a4-4ed4-e1f1-88c99cb1f6c8"
      },
      "source": [
        "# Ordenação\n",
        "media_notas.sort_values(\"rating\", ascending=False)"
      ],
      "execution_count": 41,
      "outputs": [
        {
          "output_type": "execute_result",
          "data": {
            "text/html": [
              "<div>\n",
              "<style scoped>\n",
              "    .dataframe tbody tr th:only-of-type {\n",
              "        vertical-align: middle;\n",
              "    }\n",
              "\n",
              "    .dataframe tbody tr th {\n",
              "        vertical-align: top;\n",
              "    }\n",
              "\n",
              "    .dataframe thead th {\n",
              "        text-align: right;\n",
              "    }\n",
              "</style>\n",
              "<table border=\"1\" class=\"dataframe\">\n",
              "  <thead>\n",
              "    <tr style=\"text-align: right;\">\n",
              "      <th></th>\n",
              "      <th>movieId</th>\n",
              "      <th>title</th>\n",
              "      <th>genres</th>\n",
              "      <th>rating</th>\n",
              "    </tr>\n",
              "  </thead>\n",
              "  <tbody>\n",
              "    <tr>\n",
              "      <th>7656</th>\n",
              "      <td>88448</td>\n",
              "      <td>Paper Birds (Pájaros de papel) (2010)</td>\n",
              "      <td>Comedy|Drama</td>\n",
              "      <td>5.0</td>\n",
              "    </tr>\n",
              "    <tr>\n",
              "      <th>8107</th>\n",
              "      <td>100556</td>\n",
              "      <td>Act of Killing, The (2012)</td>\n",
              "      <td>Documentary</td>\n",
              "      <td>5.0</td>\n",
              "    </tr>\n",
              "    <tr>\n",
              "      <th>9083</th>\n",
              "      <td>143031</td>\n",
              "      <td>Jump In! (2007)</td>\n",
              "      <td>Comedy|Drama|Romance</td>\n",
              "      <td>5.0</td>\n",
              "    </tr>\n",
              "    <tr>\n",
              "      <th>9094</th>\n",
              "      <td>143511</td>\n",
              "      <td>Human (2015)</td>\n",
              "      <td>Documentary</td>\n",
              "      <td>5.0</td>\n",
              "    </tr>\n",
              "    <tr>\n",
              "      <th>9096</th>\n",
              "      <td>143559</td>\n",
              "      <td>L.A. Slasher (2015)</td>\n",
              "      <td>Comedy|Crime|Fantasy</td>\n",
              "      <td>5.0</td>\n",
              "    </tr>\n",
              "    <tr>\n",
              "      <th>...</th>\n",
              "      <td>...</td>\n",
              "      <td>...</td>\n",
              "      <td>...</td>\n",
              "      <td>...</td>\n",
              "    </tr>\n",
              "    <tr>\n",
              "      <th>5749</th>\n",
              "      <td>30892</td>\n",
              "      <td>In the Realms of the Unreal (2004)</td>\n",
              "      <td>Animation|Documentary</td>\n",
              "      <td>NaN</td>\n",
              "    </tr>\n",
              "    <tr>\n",
              "      <th>5824</th>\n",
              "      <td>32160</td>\n",
              "      <td>Twentieth Century (1934)</td>\n",
              "      <td>Comedy</td>\n",
              "      <td>NaN</td>\n",
              "    </tr>\n",
              "    <tr>\n",
              "      <th>5837</th>\n",
              "      <td>32371</td>\n",
              "      <td>Call Northside 777 (1948)</td>\n",
              "      <td>Crime|Drama|Film-Noir</td>\n",
              "      <td>NaN</td>\n",
              "    </tr>\n",
              "    <tr>\n",
              "      <th>5957</th>\n",
              "      <td>34482</td>\n",
              "      <td>Browning Version, The (1951)</td>\n",
              "      <td>Drama</td>\n",
              "      <td>NaN</td>\n",
              "    </tr>\n",
              "    <tr>\n",
              "      <th>7565</th>\n",
              "      <td>85565</td>\n",
              "      <td>Chalet Girl (2011)</td>\n",
              "      <td>Comedy|Romance</td>\n",
              "      <td>NaN</td>\n",
              "    </tr>\n",
              "  </tbody>\n",
              "</table>\n",
              "<p>9742 rows × 4 columns</p>\n",
              "</div>"
            ],
            "text/plain": [
              "      movieId  ... rating\n",
              "7656    88448  ...    5.0\n",
              "8107   100556  ...    5.0\n",
              "9083   143031  ...    5.0\n",
              "9094   143511  ...    5.0\n",
              "9096   143559  ...    5.0\n",
              "...       ...  ...    ...\n",
              "5749    30892  ...    NaN\n",
              "5824    32160  ...    NaN\n",
              "5837    32371  ...    NaN\n",
              "5957    34482  ...    NaN\n",
              "7565    85565  ...    NaN\n",
              "\n",
              "[9742 rows x 4 columns]"
            ]
          },
          "metadata": {
            "tags": []
          },
          "execution_count": 41
        }
      ]
    },
    {
      "cell_type": "code",
      "metadata": {
        "id": "zhe_vYMbZ9HY",
        "colab_type": "code",
        "colab": {
          "base_uri": "https://localhost:8080/",
          "height": 282
        },
        "outputId": "502cd04a-8296-4983-8996-a4cee7863e5a"
      },
      "source": [
        "# Iniciando com gráficos\n",
        "\n",
        "# avaliacoes.query(\"movieId == 1\")[\"rating\"].plot()\n",
        "# avaliacoes.query(\"movieId == 1\")[\"rating\"].hist()\n",
        "# avaliacoes.query(\"movieId == 1\")[\"rating\"].plot(kind=\"hist\")\n",
        "# Bom para discutir notas em hotel, em avaliações e reomdendações\n",
        "#   Hotel: O que é melhor (que muitos dão nota 4, ou que há um monte com notas 1 e um monte com notas 2)\n",
        "\n",
        "\n",
        "\n",
        "\n"
      ],
      "execution_count": 51,
      "outputs": [
        {
          "output_type": "execute_result",
          "data": {
            "text/plain": [
              "<matplotlib.axes._subplots.AxesSubplot at 0x7f432b9debe0>"
            ]
          },
          "metadata": {
            "tags": []
          },
          "execution_count": 51
        },
        {
          "output_type": "display_data",
          "data": {
            "image/png": "[encoded data removed]",
            "text/plain": [
              "<Figure size 432x288 with 1 Axes>"
            ]
          },
          "metadata": {
            "tags": [],
            "needs_background": "light"
          }
        }
      ]
    },
    {
      "cell_type": "code",
      "metadata": {
        "id": "PH_90j5hbuQM",
        "colab_type": "code",
        "colab": {}
      },
      "source": [
        "# Medidas de centro e dispersão\n",
        "\n",
        "# Pesquisar depois sobre média, mediana e outros\n",
        "# Pesquisar sobre desvio padrão, variância e outros\n",
        "# E quais os tipos de distribuição e em quais delas é interessante usar uma medida ou outra"
      ],
      "execution_count": 0,
      "outputs": []
    },
    {
      "cell_type": "code",
      "metadata": {
        "id": "g0nt-omicJMo",
        "colab_type": "code",
        "colab": {
          "base_uri": "https://localhost:8080/",
          "height": 390
        },
        "outputId": "df477afa-d1f4-4745-e38f-bb2feeb4775b"
      },
      "source": [
        "# Tratamento interessante: strings e get_dummies\n",
        "# filmes[\"genres\"].str.get_dummies(\"|\").sum()   # Soma por coluna\n",
        "# filmes[\"genres\"].str.get_dummies(\"|\").sum(axis=1).value_counts() #Soma por linha\n",
        "\n",
        "# filmes[\"genres\"].str.get_dummies(\"|\").sum().sort_values(ascending=False) # Detalhe sobre series: Index e Values\n",
        "\n",
        "filmes[\"genres\"].str.get_dummies(\"|\").sum().sort_values(ascending=False).values\n",
        "filmes[\"genres\"].str.get_dummies(\"|\").sum().sort_values(ascending=False).index\n",
        "filmes[\"genres\"].str.get_dummies(\"|\").sum().sort_index(ascending=True)\n",
        "\n",
        "\n"
      ],
      "execution_count": 72,
      "outputs": [
        {
          "output_type": "execute_result",
          "data": {
            "text/plain": [
              "(no genres listed)      34\n",
              "Action                1828\n",
              "Adventure             1263\n",
              "Animation              611\n",
              "Children               664\n",
              "Comedy                3756\n",
              "Crime                 1199\n",
              "Documentary            440\n",
              "Drama                 4361\n",
              "Fantasy                779\n",
              "Film-Noir               87\n",
              "Horror                 978\n",
              "IMAX                   158\n",
              "Musical                334\n",
              "Mystery                573\n",
              "Romance               1596\n",
              "Sci-Fi                 980\n",
              "Thriller              1894\n",
              "War                    382\n",
              "Western                167\n",
              "dtype: int64"
            ]
          },
          "metadata": {
            "tags": []
          },
          "execution_count": 72
        }
      ]
    },
    {
      "cell_type": "code",
      "metadata": {
        "id": "Mu4PVPkPeqFz",
        "colab_type": "code",
        "colab": {
          "base_uri": "https://localhost:8080/",
          "height": 452
        },
        "outputId": "7a6b6a0b-42ed-440c-ba2b-79aa8900ba1d"
      },
      "source": [
        "# Mais gráficos\n",
        "# filmes[\"genres\"].str.get_dummies(\"|\").sum().sort_values(ascending=False).plot()\n",
        "\n",
        "# Estudo de visualização\n",
        "# Que tipo de gráfico deve ser plotado conforme variáveis e outros\n",
        "\n",
        "filmes[\"genres\"].str.get_dummies(\"|\").sum().sort_values(ascending=False).plot(kind=\"pie\")\n",
        "# filmes[\"genres\"].str.get_dummies(\"|\").sum().sort_values(ascending=False).plot(kind=\"pie\", figsize=(10,10))\n",
        "#filmes[\"genres\"].str.get_dummies(\"|\").sum().sort_values(ascending=False).plot(kind=\"bar\", figsize=(10,10))\n",
        "plt.figure(figsize=(8,8))\n",
        "\n"
      ],
      "execution_count": 97,
      "outputs": [
        {
          "output_type": "error",
          "ename": "TypeError",
          "evalue": "ignored",
          "traceback": [
            "\u001b[0;31m---------------------------------------------------------------------------\u001b[0m",
            "\u001b[0;31mTypeError\u001b[0m                                 Traceback (most recent call last)",
            "\u001b[0;32m<ipython-input-97-6219437e713a>\u001b[0m in \u001b[0;36m<module>\u001b[0;34m()\u001b[0m\n\u001b[1;32m      3\u001b[0m \u001b[0;31m# filmes[\"genres\"].str.get_dummies(\"|\").sum().sort_values(ascending=False).plot(kind=\"pie\", figsize=(10,10))\u001b[0m\u001b[0;34m\u001b[0m\u001b[0;34m\u001b[0m\u001b[0;34m\u001b[0m\u001b[0m\n\u001b[1;32m      4\u001b[0m \u001b[0;31m#filmes[\"genres\"].str.get_dummies(\"|\").sum().sort_values(ascending=False).plot(kind=\"bar\", figsize=(10,10))\u001b[0m\u001b[0;34m\u001b[0m\u001b[0;34m\u001b[0m\u001b[0;34m\u001b[0m\u001b[0m\n\u001b[0;32m----> 5\u001b[0;31m \u001b[0mplt\u001b[0m\u001b[0;34m.\u001b[0m\u001b[0mfigure\u001b[0m\u001b[0;34m(\u001b[0m\u001b[0mfigsize\u001b[0m\u001b[0;34m=\u001b[0m\u001b[0;34m(\u001b[0m\u001b[0;36m8\u001b[0m\u001b[0;34m,\u001b[0m\u001b[0;36m8\u001b[0m\u001b[0;34m)\u001b[0m\u001b[0;34m)\u001b[0m\u001b[0;34m\u001b[0m\u001b[0;34m\u001b[0m\u001b[0m\n\u001b[0m\u001b[1;32m      6\u001b[0m \u001b[0;34m\u001b[0m\u001b[0m\n",
            "\u001b[0;31mTypeError\u001b[0m: 'Figure' object is not callable"
          ]
        },
        {
          "output_type": "display_data",
          "data": {
            "image/png": "[encoded data removed]",
            "text/plain": [
              "<Figure size 432x288 with 1 Axes>"
            ]
          },
          "metadata": {
            "tags": []
          }
        }
      ]
    },
    {
      "cell_type": "code",
      "metadata": {
        "id": "4lno9zTUgW02",
        "colab_type": "code",
        "colab": {
          "base_uri": "https://localhost:8080/",
          "height": 282
        },
        "outputId": "d31ca112-c0f1-497d-ac48-e978b19c043e"
      },
      "source": [
        "# Usando seaborn\n",
        "\n",
        "filmes_genero = filmes[\"genres\"].str.get_dummies(\"|\").sum().sort_values(ascending=False)\n",
        "filmes_genero.head()\n",
        "\n",
        "# filmes_genero.plot(kind=\"bar\")\n",
        "# plt.show()\n",
        "\n",
        "import seaborn as sn\n",
        "\n",
        "#plt.figure(figsize=(8,8))\n",
        "sn.barplot(x=filmes_genero.index, \n",
        "           y=filmes_genero.values, \n",
        "           palette=sn.color_palette(\"BuGn_r\", n_colors=len(filmes_genero)+3))\n",
        "#plt.show()\n",
        "# Existem propriedades que são do gráfico, geral, da barra. Avaliar\n",
        "\n"
      ],
      "execution_count": 104,
      "outputs": [
        {
          "output_type": "execute_result",
          "data": {
            "text/plain": [
              "<matplotlib.axes._subplots.AxesSubplot at 0x7f43202bc860>"
            ]
          },
          "metadata": {
            "tags": []
          },
          "execution_count": 104
        },
        {
          "output_type": "display_data",
          "data": {
            "image/png": "[encoded data removed]",
            "text/plain": [
              "<Figure size 432x288 with 1 Axes>"
            ]
          },
          "metadata": {
            "tags": [],
            "needs_background": "light"
          }
        }
      ]
    },
    {
      "cell_type": "code",
      "metadata": {
        "id": "7QhBGvT11m1E",
        "colab_type": "code",
        "colab": {
          "base_uri": "https://localhost:8080/",
          "height": 296
        },
        "outputId": "b58fdf7e-5d96-4b52-8fcb-06ff453b5743"
      },
      "source": [
        "# Boxplot\n",
        "# filmes_genero.head()\n",
        "# avaliacoes.head()\n",
        "sn.boxplot(data=avaliacoes.query(\"movieId in [1, 2, 3, 4]\"), x=\"movieId\", y=\"rating\")"
      ],
      "execution_count": 109,
      "outputs": [
        {
          "output_type": "execute_result",
          "data": {
            "text/plain": [
              "<matplotlib.axes._subplots.AxesSubplot at 0x7f431e691978>"
            ]
          },
          "metadata": {
            "tags": []
          },
          "execution_count": 109
        },
        {
          "output_type": "display_data",
          "data": {
            "image/png": "[encoded data removed]",
            "text/plain": [
              "<Figure size 432x288 with 1 Axes>"
            ]
          },
          "metadata": {
            "tags": [],
            "needs_background": "light"
          }
        }
      ]
    },
    {
      "cell_type": "code",
      "metadata": {
        "id": "Ctn74yGh3c3D",
        "colab_type": "code",
        "colab": {
          "base_uri": "https://localhost:8080/",
          "height": 137
        },
        "outputId": "cc0d63ab-5bf8-4f20-9c32-36eb0c8ba339"
      },
      "source": [
        "# Scatterplot\n",
        "# sn.scatterplot(data=avaliacoes.query(\"movieId in [1, 2, 3, 4]\"), x=\"movieId\", y=\"rating\")\n",
        "\n",
        "\n",
        "# sn.pairplot (data = avaliacoes[[\"movieId\", \"rating\", \"userId\"]])\n",
        "\n",
        "avaliacoes[[\"movieId\", \"rating\", \"userId\"]].corr()\n",
        "\n",
        "# na aula acontece muito de "
      ],
      "execution_count": 115,
      "outputs": [
        {
          "output_type": "execute_result",
          "data": {
            "text/html": [
              "<div>\n",
              "<style scoped>\n",
              "    .dataframe tbody tr th:only-of-type {\n",
              "        vertical-align: middle;\n",
              "    }\n",
              "\n",
              "    .dataframe tbody tr th {\n",
              "        vertical-align: top;\n",
              "    }\n",
              "\n",
              "    .dataframe thead th {\n",
              "        text-align: right;\n",
              "    }\n",
              "</style>\n",
              "<table border=\"1\" class=\"dataframe\">\n",
              "  <thead>\n",
              "    <tr style=\"text-align: right;\">\n",
              "      <th></th>\n",
              "      <th>movieId</th>\n",
              "      <th>rating</th>\n",
              "      <th>userId</th>\n",
              "    </tr>\n",
              "  </thead>\n",
              "  <tbody>\n",
              "    <tr>\n",
              "      <th>movieId</th>\n",
              "      <td>1.000000</td>\n",
              "      <td>-0.004061</td>\n",
              "      <td>0.006773</td>\n",
              "    </tr>\n",
              "    <tr>\n",
              "      <th>rating</th>\n",
              "      <td>-0.004061</td>\n",
              "      <td>1.000000</td>\n",
              "      <td>-0.049348</td>\n",
              "    </tr>\n",
              "    <tr>\n",
              "      <th>userId</th>\n",
              "      <td>0.006773</td>\n",
              "      <td>-0.049348</td>\n",
              "      <td>1.000000</td>\n",
              "    </tr>\n",
              "  </tbody>\n",
              "</table>\n",
              "</div>"
            ],
            "text/plain": [
              "          movieId    rating    userId\n",
              "movieId  1.000000 -0.004061  0.006773\n",
              "rating  -0.004061  1.000000 -0.049348\n",
              "userId   0.006773 -0.049348  1.000000"
            ]
          },
          "metadata": {
            "tags": []
          },
          "execution_count": 115
        }
      ]
    },
    {
      "cell_type": "code",
      "metadata": {
        "id": "6rT-P0YK7PG9",
        "colab_type": "code",
        "colab": {}
      },
      "source": [
        "import pandas as pd\n",
        "\n",
        "%precision %.2f\n",
        "pd.options.display.float_format = '{:,.2f}'.format\n",
        "\n",
        "\n",
        "\n"
      ],
      "execution_count": 0,
      "outputs": []
    },
    {
      "cell_type": "code",
      "metadata": {
        "id": "AaihgGMs7oe_",
        "colab_type": "code",
        "colab": {
          "base_uri": "https://localhost:8080/",
          "height": 34
        },
        "outputId": "0899f316-b04d-4847-9866-52e8b9c27fa3"
      },
      "source": [
        "ano = \"2018\"\n",
        "fonte = f\"https://raw.githubusercontent.com/guilhermesilveira/enem-2018/master/MICRODADOS_ENEM_2018_SAMPLE_43278.csv\"\n",
        "\n",
        "dados = pd.read_csv(fonte, encoding=\"ISO-8859-1\", delimiter=\";\")\n",
        "dados.shape"
      ],
      "execution_count": 118,
      "outputs": [
        {
          "output_type": "execute_result",
          "data": {
            "text/plain": [
              "(137844, 1)"
            ]
          },
          "metadata": {
            "tags": []
          },
          "execution_count": 118
        }
      ]
    },
    {
      "cell_type": "code",
      "metadata": {
        "id": "oEiZ8mdL823j",
        "colab_type": "code",
        "colab": {
          "base_uri": "https://localhost:8080/",
          "height": 72
        },
        "outputId": "00521b5b-2724-4ef3-f008-57065ef7e6cf"
      },
      "source": [
        "dados.columns.values"
      ],
      "execution_count": 119,
      "outputs": [
        {
          "output_type": "execute_result",
          "data": {
            "text/plain": [
              "array(['NU_INSCRICAO,NU_ANO,CO_MUNICIPIO_RESIDENCIA,NO_MUNICIPIO_RESIDENCIA,CO_UF_RESIDENCIA,SG_UF_RESIDENCIA,NU_IDADE,TP_SEXO,TP_ESTADO_CIVIL,TP_COR_RACA,TP_NACIONALIDADE,CO_MUNICIPIO_NASCIMENTO,NO_MUNICIPIO_NASCIMENTO,CO_UF_NASCIMENTO,SG_UF_NASCIMENTO,TP_ST_CONCLUSAO,TP_ANO_CONCLUIU,TP_ESCOLA,TP_ENSINO,IN_TREINEIRO,CO_ESCOLA,CO_MUNICIPIO_ESC,NO_MUNICIPIO_ESC,CO_UF_ESC,SG_UF_ESC,TP_DEPENDENCIA_ADM_ESC,TP_LOCALIZACAO_ESC,TP_SIT_FUNC_ESC,IN_BAIXA_VISAO,IN_CEGUEIRA,IN_SURDEZ,IN_DEFICIENCIA_AUDITIVA,IN_SURDO_CEGUEIRA,IN_DEFICIENCIA_FISICA,IN_DEFICIENCIA_MENTAL,IN_DEFICIT_ATENCAO,IN_DISLEXIA,IN_DISCALCULIA,IN_AUTISMO,IN_VISAO_MONOCULAR,IN_OUTRA_DEF,IN_GESTANTE,IN_LACTANTE,IN_IDOSO,IN_ESTUDA_CLASSE_HOSPITALAR,IN_SEM_RECURSO,IN_BRAILLE,IN_AMPLIADA_24,IN_AMPLIADA_18,IN_LEDOR,IN_ACESSO,IN_TRANSCRICAO,IN_LIBRAS,IN_LEITURA_LABIAL,IN_MESA_CADEIRA_RODAS,IN_MESA_CADEIRA_SEPARADA,IN_APOIO_PERNA,IN_GUIA_INTERPRETE,IN_COMPUTADOR,IN_CADEIRA_ESPECIAL,IN_CADEIRA_CANHOTO,IN_CADEIRA_ACOLCHOADA,IN_PROVA_DEITADO,IN_MOBILIARIO_OBESO,IN_LAMINA_OVERLAY,IN_PROTETOR_AURICULAR,IN_MEDIDOR_GLICOSE,IN_MAQUINA_BRAILE,IN_SOROBAN,IN_MARCA_PASSO,IN_SONDA,IN_MEDICAMENTOS,IN_SALA_INDIVIDUAL,IN_SALA_ESPECIAL,IN_SALA_ACOMPANHANTE,IN_MOBILIARIO_ESPECIFICO,IN_MATERIAL_ESPECIFICO,IN_NOME_SOCIAL,CO_MUNICIPIO_PROVA,NO_MUNICIPIO_PROVA,CO_UF_PROVA,SG_UF_PROVA,TP_PRESENCA_CN,TP_PRESENCA_CH,TP_PRESENCA_LC,TP_PRESENCA_MT,CO_PROVA_CN,CO_PROVA_CH,CO_PROVA_LC,CO_PROVA_MT,NU_NOTA_CN,NU_NOTA_CH,NU_NOTA_LC,NU_NOTA_MT,TX_RESPOSTAS_CN,TX_RESPOSTAS_CH,TX_RESPOSTAS_LC,TX_RESPOSTAS_MT,TP_LINGUA,TX_GABARITO_CN,TX_GABARITO_CH,TX_GABARITO_LC,TX_GABARITO_MT,TP_STATUS_REDACAO,NU_NOTA_COMP1,NU_NOTA_COMP2,NU_NOTA_COMP3,NU_NOTA_COMP4,NU_NOTA_COMP5,NU_NOTA_REDACAO,Q001,Q002,Q003,Q004,Q005,Q006,Q007,Q008,Q009,Q010,Q011,Q012,Q013,Q014,Q015,Q016,Q017,Q018,Q019,Q020,Q021,Q022,Q023,Q024,Q025,Q026,Q027'],\n",
              "      dtype=object)"
            ]
          },
          "metadata": {
            "tags": []
          },
          "execution_count": 119
        }
      ]
    },
    {
      "cell_type": "code",
      "metadata": {
        "id": "4TdiFcTB9ExT",
        "colab_type": "code",
        "colab": {
          "base_uri": "https://localhost:8080/",
          "height": 725
        },
        "outputId": "861d11eb-0bde-4b09-a5eb-bbebc2311b9c"
      },
      "source": [
        "#colunas_de_notas = ['NU_NOTA_CN', 'NU_NOTA_CH', 'NU_NOTA_LC',\n",
        "#       'NU_NOTA_MT', 'NU_NOTA_COMP1',\n",
        "#       'NU_NOTA_COMP2', 'NU_NOTA_COMP3', 'NU_NOTA_COMP4', 'NU_NOTA_COMP5',\n",
        "#       'NU_NOTA_REDACAO']\n",
        "\n",
        "\n",
        "dados[\"NU_INSCRICAO\"]"
      ],
      "execution_count": 126,
      "outputs": [
        {
          "output_type": "error",
          "ename": "KeyError",
          "evalue": "ignored",
          "traceback": [
            "\u001b[0;31m---------------------------------------------------------------------------\u001b[0m",
            "\u001b[0;31mKeyError\u001b[0m                                  Traceback (most recent call last)",
            "\u001b[0;32m/usr/local/lib/python3.6/dist-packages/pandas/core/indexes/base.py\u001b[0m in \u001b[0;36mget_loc\u001b[0;34m(self, key, method, tolerance)\u001b[0m\n\u001b[1;32m   2645\u001b[0m             \u001b[0;32mtry\u001b[0m\u001b[0;34m:\u001b[0m\u001b[0;34m\u001b[0m\u001b[0;34m\u001b[0m\u001b[0m\n\u001b[0;32m-> 2646\u001b[0;31m                 \u001b[0;32mreturn\u001b[0m \u001b[0mself\u001b[0m\u001b[0;34m.\u001b[0m\u001b[0m_engine\u001b[0m\u001b[0;34m.\u001b[0m\u001b[0mget_loc\u001b[0m\u001b[0;34m(\u001b[0m\u001b[0mkey\u001b[0m\u001b[0;34m)\u001b[0m\u001b[0;34m\u001b[0m\u001b[0;34m\u001b[0m\u001b[0m\n\u001b[0m\u001b[1;32m   2647\u001b[0m             \u001b[0;32mexcept\u001b[0m \u001b[0mKeyError\u001b[0m\u001b[0;34m:\u001b[0m\u001b[0;34m\u001b[0m\u001b[0;34m\u001b[0m\u001b[0m\n",
            "\u001b[0;32mpandas/_libs/index.pyx\u001b[0m in \u001b[0;36mpandas._libs.index.IndexEngine.get_loc\u001b[0;34m()\u001b[0m\n",
            "\u001b[0;32mpandas/_libs/index.pyx\u001b[0m in \u001b[0;36mpandas._libs.index.IndexEngine.get_loc\u001b[0;34m()\u001b[0m\n",
            "\u001b[0;32mpandas/_libs/hashtable_class_helper.pxi\u001b[0m in \u001b[0;36mpandas._libs.hashtable.PyObjectHashTable.get_item\u001b[0;34m()\u001b[0m\n",
            "\u001b[0;32mpandas/_libs/hashtable_class_helper.pxi\u001b[0m in \u001b[0;36mpandas._libs.hashtable.PyObjectHashTable.get_item\u001b[0;34m()\u001b[0m\n",
            "\u001b[0;31mKeyError\u001b[0m: 'NU_INSCRICAO'",
            "\nDuring handling of the above exception, another exception occurred:\n",
            "\u001b[0;31mKeyError\u001b[0m                                  Traceback (most recent call last)",
            "\u001b[0;32m<ipython-input-126-2d14e3c3d0f5>\u001b[0m in \u001b[0;36m<module>\u001b[0;34m()\u001b[0m\n\u001b[1;32m      1\u001b[0m \u001b[0;34m\u001b[0m\u001b[0m\n\u001b[1;32m      2\u001b[0m \u001b[0;34m\u001b[0m\u001b[0m\n\u001b[0;32m----> 3\u001b[0;31m \u001b[0mdados\u001b[0m\u001b[0;34m[\u001b[0m\u001b[0;34m\"NU_INSCRICAO\"\u001b[0m\u001b[0;34m]\u001b[0m\u001b[0;34m\u001b[0m\u001b[0;34m\u001b[0m\u001b[0m\n\u001b[0m",
            "\u001b[0;32m/usr/local/lib/python3.6/dist-packages/pandas/core/frame.py\u001b[0m in \u001b[0;36m__getitem__\u001b[0;34m(self, key)\u001b[0m\n\u001b[1;32m   2798\u001b[0m             \u001b[0;32mif\u001b[0m \u001b[0mself\u001b[0m\u001b[0;34m.\u001b[0m\u001b[0mcolumns\u001b[0m\u001b[0;34m.\u001b[0m\u001b[0mnlevels\u001b[0m \u001b[0;34m>\u001b[0m \u001b[0;36m1\u001b[0m\u001b[0;34m:\u001b[0m\u001b[0;34m\u001b[0m\u001b[0;34m\u001b[0m\u001b[0m\n\u001b[1;32m   2799\u001b[0m                 \u001b[0;32mreturn\u001b[0m \u001b[0mself\u001b[0m\u001b[0;34m.\u001b[0m\u001b[0m_getitem_multilevel\u001b[0m\u001b[0;34m(\u001b[0m\u001b[0mkey\u001b[0m\u001b[0;34m)\u001b[0m\u001b[0;34m\u001b[0m\u001b[0;34m\u001b[0m\u001b[0m\n\u001b[0;32m-> 2800\u001b[0;31m             \u001b[0mindexer\u001b[0m \u001b[0;34m=\u001b[0m \u001b[0mself\u001b[0m\u001b[0;34m.\u001b[0m\u001b[0mcolumns\u001b[0m\u001b[0;34m.\u001b[0m\u001b[0mget_loc\u001b[0m\u001b[0;34m(\u001b[0m\u001b[0mkey\u001b[0m\u001b[0;34m)\u001b[0m\u001b[0;34m\u001b[0m\u001b[0;34m\u001b[0m\u001b[0m\n\u001b[0m\u001b[1;32m   2801\u001b[0m             \u001b[0;32mif\u001b[0m \u001b[0mis_integer\u001b[0m\u001b[0;34m(\u001b[0m\u001b[0mindexer\u001b[0m\u001b[0;34m)\u001b[0m\u001b[0;34m:\u001b[0m\u001b[0;34m\u001b[0m\u001b[0;34m\u001b[0m\u001b[0m\n\u001b[1;32m   2802\u001b[0m                 \u001b[0mindexer\u001b[0m \u001b[0;34m=\u001b[0m \u001b[0;34m[\u001b[0m\u001b[0mindexer\u001b[0m\u001b[0;34m]\u001b[0m\u001b[0;34m\u001b[0m\u001b[0;34m\u001b[0m\u001b[0m\n",
            "\u001b[0;32m/usr/local/lib/python3.6/dist-packages/pandas/core/indexes/base.py\u001b[0m in \u001b[0;36mget_loc\u001b[0;34m(self, key, method, tolerance)\u001b[0m\n\u001b[1;32m   2646\u001b[0m                 \u001b[0;32mreturn\u001b[0m \u001b[0mself\u001b[0m\u001b[0;34m.\u001b[0m\u001b[0m_engine\u001b[0m\u001b[0;34m.\u001b[0m\u001b[0mget_loc\u001b[0m\u001b[0;34m(\u001b[0m\u001b[0mkey\u001b[0m\u001b[0;34m)\u001b[0m\u001b[0;34m\u001b[0m\u001b[0;34m\u001b[0m\u001b[0m\n\u001b[1;32m   2647\u001b[0m             \u001b[0;32mexcept\u001b[0m \u001b[0mKeyError\u001b[0m\u001b[0;34m:\u001b[0m\u001b[0;34m\u001b[0m\u001b[0;34m\u001b[0m\u001b[0m\n\u001b[0;32m-> 2648\u001b[0;31m                 \u001b[0;32mreturn\u001b[0m \u001b[0mself\u001b[0m\u001b[0;34m.\u001b[0m\u001b[0m_engine\u001b[0m\u001b[0;34m.\u001b[0m\u001b[0mget_loc\u001b[0m\u001b[0;34m(\u001b[0m\u001b[0mself\u001b[0m\u001b[0;34m.\u001b[0m\u001b[0m_maybe_cast_indexer\u001b[0m\u001b[0;34m(\u001b[0m\u001b[0mkey\u001b[0m\u001b[0;34m)\u001b[0m\u001b[0;34m)\u001b[0m\u001b[0;34m\u001b[0m\u001b[0;34m\u001b[0m\u001b[0m\n\u001b[0m\u001b[1;32m   2649\u001b[0m         \u001b[0mindexer\u001b[0m \u001b[0;34m=\u001b[0m \u001b[0mself\u001b[0m\u001b[0;34m.\u001b[0m\u001b[0mget_indexer\u001b[0m\u001b[0;34m(\u001b[0m\u001b[0;34m[\u001b[0m\u001b[0mkey\u001b[0m\u001b[0;34m]\u001b[0m\u001b[0;34m,\u001b[0m \u001b[0mmethod\u001b[0m\u001b[0;34m=\u001b[0m\u001b[0mmethod\u001b[0m\u001b[0;34m,\u001b[0m \u001b[0mtolerance\u001b[0m\u001b[0;34m=\u001b[0m\u001b[0mtolerance\u001b[0m\u001b[0;34m)\u001b[0m\u001b[0;34m\u001b[0m\u001b[0;34m\u001b[0m\u001b[0m\n\u001b[1;32m   2650\u001b[0m         \u001b[0;32mif\u001b[0m \u001b[0mindexer\u001b[0m\u001b[0;34m.\u001b[0m\u001b[0mndim\u001b[0m \u001b[0;34m>\u001b[0m \u001b[0;36m1\u001b[0m \u001b[0;32mor\u001b[0m \u001b[0mindexer\u001b[0m\u001b[0;34m.\u001b[0m\u001b[0msize\u001b[0m \u001b[0;34m>\u001b[0m \u001b[0;36m1\u001b[0m\u001b[0;34m:\u001b[0m\u001b[0;34m\u001b[0m\u001b[0;34m\u001b[0m\u001b[0m\n",
            "\u001b[0;32mpandas/_libs/index.pyx\u001b[0m in \u001b[0;36mpandas._libs.index.IndexEngine.get_loc\u001b[0;34m()\u001b[0m\n",
            "\u001b[0;32mpandas/_libs/index.pyx\u001b[0m in \u001b[0;36mpandas._libs.index.IndexEngine.get_loc\u001b[0;34m()\u001b[0m\n",
            "\u001b[0;32mpandas/_libs/hashtable_class_helper.pxi\u001b[0m in \u001b[0;36mpandas._libs.hashtable.PyObjectHashTable.get_item\u001b[0;34m()\u001b[0m\n",
            "\u001b[0;32mpandas/_libs/hashtable_class_helper.pxi\u001b[0m in \u001b[0;36mpandas._libs.hashtable.PyObjectHashTable.get_item\u001b[0;34m()\u001b[0m\n",
            "\u001b[0;31mKeyError\u001b[0m: 'NU_INSCRICAO'"
          ]
        }
      ]
    }
  ]
}