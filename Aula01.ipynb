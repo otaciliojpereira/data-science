{
  "nbformat": 4,
  "nbformat_minor": 0,
  "metadata": {
    "colab": {
      "name": "Untitled0.ipynb",
      "provenance": [],
      "authorship_tag": "ABX9TyNoKBEyGtZl5WhatNU+rhca",
      "include_colab_link": true
    },
    "kernelspec": {
      "name": "python3",
      "display_name": "Python 3"
    }
  },
  "cells": [
    {
      "cell_type": "markdown",
      "metadata": {
        "id": "view-in-github",
        "colab_type": "text"
      },
      "source": [
        "<a href=\"https://colab.research.google.com/github/otaciliojpereira/data-science/blob/master/Aula01.ipynb\" target=\"_parent\"><img src=\"https://colab.research.google.com/assets/colab-badge.svg\" alt=\"Open In Colab\"/></a>"
      ]
    },
    {
      "cell_type": "markdown",
      "metadata": {
        "id": "xZ-gT3GwUm_M",
        "colab_type": "text"
      },
      "source": [
        "- Estudo QuarentenaDados (Sugestão do Kevin e bem interessante)\n",
        "\n",
        "Data: De 20 a 27/04/2020\n",
        "\n",
        "Pelo que vi até agora, a organização está da seguinte forma:\n",
        "\n",
        "   Aula 1 - Recuperar os dados e realizar algumas análises estatísticas\n",
        "\n",
        "   Aula 2 - Observar os dados via gráfico e alguns tratamentos sobre os dados\n",
        "\n",
        "   Aula 3 - Mais sobre gráficos e com exploração de eventuais correlações\n",
        "\n",
        "   Aula 4 - (A avaliar)\n",
        "\n",
        "   Aula 5 - (A avaliar)"
      ]
    },
    {
      "cell_type": "code",
      "metadata": {
        "id": "OaRPO5xcUHzH",
        "colab_type": "code",
        "colab": {}
      },
      "source": [
        ""
      ],
      "execution_count": 0,
      "outputs": []
    },
    {
      "cell_type": "markdown",
      "metadata": {
        "id": "7tdgBBx5Vx3d",
        "colab_type": "text"
      },
      "source": [
        "# **Estudo 01 - Fontes e operações sobre as bases de dados**\n",
        "\n",
        "(Ideia) Quais os grandes repositórios? Existem bases de dados interessantes sobre educação e séries temporais em máquinas (Tenessee Eastman Process)\n",
        "\n",
        "(Ideia) Criar um GitHb para compartilhar as bases entre suas experiências parece interessante.\n",
        "\n",
        "Pontos chaves:\n",
        "\n",
        "- Carga / Compreender formato / Entender sua estrutura / Quais frameworks e suas estruturas típicas / Operações (subconjunto) típicas\n"
      ]
    },
    {
      "cell_type": "code",
      "metadata": {
        "id": "1udcoo_aXET3",
        "colab_type": "code",
        "outputId": "ccaace4c-1cba-4f32-86b1-b8266d1f0538",
        "colab": {
          "base_uri": "https://localhost:8080/",
          "height": 34
        }
      },
      "source": [
        "# Carregar os dados\n",
        "a = 10\n",
        "print(a)"
      ],
      "execution_count": 0,
      "outputs": [
        {
          "output_type": "stream",
          "text": [
            "10\n"
          ],
          "name": "stdout"
        }
      ]
    },
    {
      "cell_type": "markdown",
      "metadata": {
        "id": "lzCFMOzDmZ4e",
        "colab_type": "text"
      },
      "source": [
        "# Carga dos dados através do Pandas\n",
        "\n",
        "Importação / read_csv / operações com o Dataframe (colunas e linhas) / contabilização / outras úteis\n",
        "\n",
        "Fonte interessante: \n",
        "Pandas Tutorial: DataFrames in Python / DataCamp"
      ]
    },
    {
      "cell_type": "code",
      "metadata": {
        "id": "yESShZXIf0dc",
        "colab_type": "code",
        "colab": {}
      },
      "source": [
        "import pandas as pd"
      ],
      "execution_count": 0,
      "outputs": []
    },
    {
      "cell_type": "code",
      "metadata": {
        "id": "htkmqYqAgiX1",
        "colab_type": "code",
        "colab": {}
      },
      "source": [
        "movies = pd.read_csv(\"https://raw.githubusercontent.com/otaciliojpereira/data-science/master/movies.csv\")\n",
        "# movies.head\n",
        "# ?movies\n",
        "\n",
        "avaliacoes = pd.read_csv(\"https://raw.githubusercontent.com/otaciliojpereira/data-science/master/ratings.csv\")"
      ],
      "execution_count": 0,
      "outputs": []
    },
    {
      "cell_type": "code",
      "metadata": {
        "id": "e6nCH9gpkrS-",
        "colab_type": "code",
        "colab": {}
      },
      "source": [
        "# movies.columns = ['Id', 'Título', 'Gênero']\n",
        "# movies.head\n",
        "movies"
      ],
      "execution_count": 0,
      "outputs": []
    },
    {
      "cell_type": "code",
      "metadata": {
        "id": "wr2BHqIUlJyz",
        "colab_type": "code",
        "colab": {
          "base_uri": "https://localhost:8080/",
          "height": 34
        },
        "outputId": "95d747bf-13dc-4060-e950-7b0760d39f01"
      },
      "source": [
        "# movies.mean()\n",
        "len(movies)"
      ],
      "execution_count": 30,
      "outputs": [
        {
          "output_type": "execute_result",
          "data": {
            "text/plain": [
              "9742"
            ]
          },
          "metadata": {
            "tags": []
          },
          "execution_count": 30
        }
      ]
    },
    {
      "cell_type": "markdown",
      "metadata": {
        "id": "LnCt3lE3ouN7",
        "colab_type": "text"
      },
      "source": [
        "# Operações de consulta na tabela de dados / semelhante ao SQL\n",
        "\n",
        "- Query / "
      ]
    },
    {
      "cell_type": "code",
      "metadata": {
        "id": "Vd9tdzRAo00u",
        "colab_type": "code",
        "colab": {
          "base_uri": "https://localhost:8080/",
          "height": 450
        },
        "outputId": "ba958abb-864a-4e1b-b611-3f36449c8920"
      },
      "source": [
        "# avaliacoes.head()\n",
        "# avaliacoes.describe()\n",
        "# avaliacoes.query(\"userId==1\").count()\n",
        "# avaliacoes.head()\n",
        "avaliacoes.groupby(['userId']).mean()\n"
      ],
      "execution_count": 45,
      "outputs": [
        {
          "output_type": "execute_result",
          "data": {
            "text/html": [
              "<div>\n",
              "<style scoped>\n",
              "    .dataframe tbody tr th:only-of-type {\n",
              "        vertical-align: middle;\n",
              "    }\n",
              "\n",
              "    .dataframe tbody tr th {\n",
              "        vertical-align: top;\n",
              "    }\n",
              "\n",
              "    .dataframe thead th {\n",
              "        text-align: right;\n",
              "    }\n",
              "</style>\n",
              "<table border=\"1\" class=\"dataframe\">\n",
              "  <thead>\n",
              "    <tr style=\"text-align: right;\">\n",
              "      <th></th>\n",
              "      <th>movieId</th>\n",
              "      <th>rating</th>\n",
              "      <th>timestamp</th>\n",
              "    </tr>\n",
              "    <tr>\n",
              "      <th>userId</th>\n",
              "      <th></th>\n",
              "      <th></th>\n",
              "      <th></th>\n",
              "    </tr>\n",
              "  </thead>\n",
              "  <tbody>\n",
              "    <tr>\n",
              "      <th>1</th>\n",
              "      <td>1854.603448</td>\n",
              "      <td>4.366379</td>\n",
              "      <td>9.649856e+08</td>\n",
              "    </tr>\n",
              "    <tr>\n",
              "      <th>2</th>\n",
              "      <td>70350.275862</td>\n",
              "      <td>3.948276</td>\n",
              "      <td>1.445715e+09</td>\n",
              "    </tr>\n",
              "    <tr>\n",
              "      <th>3</th>\n",
              "      <td>7058.384615</td>\n",
              "      <td>2.435897</td>\n",
              "      <td>1.306464e+09</td>\n",
              "    </tr>\n",
              "    <tr>\n",
              "      <th>4</th>\n",
              "      <td>1982.129630</td>\n",
              "      <td>3.555556</td>\n",
              "      <td>9.658643e+08</td>\n",
              "    </tr>\n",
              "    <tr>\n",
              "      <th>5</th>\n",
              "      <td>343.840909</td>\n",
              "      <td>3.636364</td>\n",
              "      <td>8.474351e+08</td>\n",
              "    </tr>\n",
              "    <tr>\n",
              "      <th>...</th>\n",
              "      <td>...</td>\n",
              "      <td>...</td>\n",
              "      <td>...</td>\n",
              "    </tr>\n",
              "    <tr>\n",
              "      <th>606</th>\n",
              "      <td>9692.197309</td>\n",
              "      <td>3.657399</td>\n",
              "      <td>1.179512e+09</td>\n",
              "    </tr>\n",
              "    <tr>\n",
              "      <th>607</th>\n",
              "      <td>1860.636364</td>\n",
              "      <td>3.786096</td>\n",
              "      <td>9.647841e+08</td>\n",
              "    </tr>\n",
              "    <tr>\n",
              "      <th>608</th>\n",
              "      <td>4502.605295</td>\n",
              "      <td>3.134176</td>\n",
              "      <td>1.122668e+09</td>\n",
              "    </tr>\n",
              "    <tr>\n",
              "      <th>609</th>\n",
              "      <td>483.162162</td>\n",
              "      <td>3.270270</td>\n",
              "      <td>8.472210e+08</td>\n",
              "    </tr>\n",
              "    <tr>\n",
              "      <th>610</th>\n",
              "      <td>49590.231183</td>\n",
              "      <td>3.688556</td>\n",
              "      <td>1.489454e+09</td>\n",
              "    </tr>\n",
              "  </tbody>\n",
              "</table>\n",
              "<p>610 rows × 3 columns</p>\n",
              "</div>"
            ],
            "text/plain": [
              "             movieId    rating     timestamp\n",
              "userId                                      \n",
              "1        1854.603448  4.366379  9.649856e+08\n",
              "2       70350.275862  3.948276  1.445715e+09\n",
              "3        7058.384615  2.435897  1.306464e+09\n",
              "4        1982.129630  3.555556  9.658643e+08\n",
              "5         343.840909  3.636364  8.474351e+08\n",
              "...              ...       ...           ...\n",
              "606      9692.197309  3.657399  1.179512e+09\n",
              "607      1860.636364  3.786096  9.647841e+08\n",
              "608      4502.605295  3.134176  1.122668e+09\n",
              "609       483.162162  3.270270  8.472210e+08\n",
              "610     49590.231183  3.688556  1.489454e+09\n",
              "\n",
              "[610 rows x 3 columns]"
            ]
          },
          "metadata": {
            "tags": []
          },
          "execution_count": 45
        }
      ]
    }
  ]
}